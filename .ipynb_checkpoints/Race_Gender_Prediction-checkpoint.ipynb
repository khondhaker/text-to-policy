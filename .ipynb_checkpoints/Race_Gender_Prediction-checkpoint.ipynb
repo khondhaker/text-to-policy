{
 "cells": [
  {
   "cell_type": "code",
   "execution_count": 6,
   "id": "4821ccc1-7d81-4ac9-a124-15c38de0bf93",
   "metadata": {},
   "outputs": [
    {
     "name": "stdout",
     "output_type": "stream",
     "text": [
      "Race model loaded from 'knn_race_prediction_model_Nov_2024.pkl.gz'\n",
      "Gender model loaded from 'svm_gender_model_Nov_2024.pkl.gz'\n",
      "Predicted Race for 'Smith': White\n",
      "Predicted Gender for 'John': Male\n"
     ]
    }
   ],
   "source": [
    "import joblib\n",
    "import gzip\n",
    "import string\n",
    "import pandas as pd\n",
    "from collections import Counter\n",
    "\n",
    "# Define the race and gender mappings (ensure these match the training mappings)\n",
    "race_mapping = {\n",
    "    'white': 0,\n",
    "    'hispanic': 1,\n",
    "    'Asian_or_Pacific_Islander': 2,\n",
    "    'black': 3,\n",
    "    'Indian_or_AlaskaNative': 4,\n",
    "    'other': 5\n",
    "}\n",
    "race_mapping_inverse = {v: k.capitalize().replace(\"_\", \" \") for k, v in race_mapping.items()}  # Reverse mapping\n",
    "\n",
    "gender_mapping = {0: 'Male', 1: 'Female'}\n",
    "\n",
    "def preprocess_name(name):\n",
    "    \"\"\"\n",
    "    Preprocess the input name into a letter frequency vector.\n",
    "    \"\"\"\n",
    "    alphabet = list(string.ascii_lowercase)\n",
    "    name = str(name).strip().lower()\n",
    "    letter_count = Counter(name)\n",
    "    return [letter_count.get(letter, 0) for letter in alphabet]\n",
    "\n",
    "# Load models once to avoid redundant loading during predictions\n",
    "try:\n",
    "    # Load the pretrained race model with gzip compression\n",
    "    race_model_path = 'knn_race_prediction_model_Nov_2024.pkl.gz'\n",
    "    with gzip.open(race_model_path, 'rb') as f:\n",
    "        race_model = joblib.load(f)\n",
    "    print(f\"Race model loaded from '{race_model_path}'\")\n",
    "\n",
    "    # Load the pretrained gender model with gzip compression\n",
    "    gender_model_path = 'svm_gender_model_Nov_2024.pkl.gz'\n",
    "    with gzip.open(gender_model_path, 'rb') as f:\n",
    "        gender_model = joblib.load(f)\n",
    "    print(f\"Gender model loaded from '{gender_model_path}'\")\n",
    "\n",
    "except FileNotFoundError as e:\n",
    "    print(f\"Error: Model file not found - {e}\")\n",
    "    exit()\n",
    "except Exception as e:\n",
    "    print(f\"Error while loading models: {e}\")\n",
    "    exit()\n",
    "\n",
    "# Function for race prediction\n",
    "def predict_race(surname):\n",
    "    \"\"\"\n",
    "    Predict the race of a person based on their surname using the loaded race model.\n",
    "    \n",
    "    Parameters:\n",
    "        surname (str): The surname to predict race for.\n",
    "    \n",
    "    Returns:\n",
    "        str: Predicted race in human-readable format.\n",
    "    \"\"\"\n",
    "    # Preprocess the surname\n",
    "    race_features = pd.DataFrame([preprocess_name(surname)], columns=list(string.ascii_lowercase))\n",
    "    # Predict race\n",
    "    predicted_race_label = race_model.predict(race_features)[0]\n",
    "    predicted_race = race_mapping_inverse[predicted_race_label]\n",
    "    return predicted_race\n",
    "\n",
    "# Function for gender prediction\n",
    "def predict_gender(first_name):\n",
    "    \"\"\"\n",
    "    Predict the gender of a person based on their first name using the loaded gender model.\n",
    "    \n",
    "    Parameters:\n",
    "        first_name (str): The first name to predict gender for.\n",
    "    \n",
    "    Returns:\n",
    "        str: Predicted gender in human-readable format.\n",
    "    \"\"\"\n",
    "    # Preprocess the first name\n",
    "    gender_features = pd.DataFrame([preprocess_name(first_name)], columns=list(string.ascii_lowercase))\n",
    "    # Predict gender\n",
    "    predicted_gender_label = gender_model.predict(gender_features)[0]\n",
    "    predicted_gender = gender_mapping[predicted_gender_label]\n",
    "    return predicted_gender\n",
    "\n",
    "# Example usage\n",
    "if __name__ == \"__main__\":\n",
    "    # Input for race and gender prediction\n",
    "    input_first_name = \"John\"\n",
    "    input_surname = \"Smith\"\n",
    "\n",
    "    # Predict race\n",
    "    predicted_race = predict_race(input_surname)\n",
    "    print(f\"Predicted Race for '{input_surname}': {predicted_race}\")\n",
    "\n",
    "    # Predict gender\n",
    "    predicted_gender = predict_gender(input_first_name)\n",
    "    print(f\"Predicted Gender for '{input_first_name}': {predicted_gender}\")"
   ]
  },
  {
   "cell_type": "markdown",
   "id": "87ec11b9-79fd-4d59-9c3f-fe4bca5b823d",
   "metadata": {},
   "source": [
    "#### Example Use"
   ]
  },
  {
   "cell_type": "code",
   "execution_count": 7,
   "id": "40194a3b-bd09-4912-832a-4986101e7ee4",
   "metadata": {},
   "outputs": [
    {
     "data": {
      "text/plain": [
       "'Asian or pacific islander'"
      ]
     },
     "execution_count": 7,
     "metadata": {},
     "output_type": "execute_result"
    }
   ],
   "source": [
    "predict_race('Chang')"
   ]
  },
  {
   "cell_type": "code",
   "execution_count": 8,
   "id": "a8e2f395-e00e-4371-ae33-9311eca4d7ac",
   "metadata": {},
   "outputs": [
    {
     "data": {
      "text/plain": [
       "'Female'"
      ]
     },
     "execution_count": 8,
     "metadata": {},
     "output_type": "execute_result"
    }
   ],
   "source": [
    "predict_gender('Emma')"
   ]
  },
  {
   "cell_type": "code",
   "execution_count": null,
   "id": "54a6ab0d-7465-473e-8d92-b6ecbbab48e3",
   "metadata": {},
   "outputs": [],
   "source": []
  }
 ],
 "metadata": {
  "kernelspec": {
   "display_name": "Python 3 (ipykernel)",
   "language": "python",
   "name": "python3"
  },
  "language_info": {
   "codemirror_mode": {
    "name": "ipython",
    "version": 3
   },
   "file_extension": ".py",
   "mimetype": "text/x-python",
   "name": "python",
   "nbconvert_exporter": "python",
   "pygments_lexer": "ipython3",
   "version": "3.11.0"
  }
 },
 "nbformat": 4,
 "nbformat_minor": 5
}
